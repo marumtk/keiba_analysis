{
 "cells": [
  {
   "cell_type": "markdown",
   "metadata": {},
   "source": [
    "# モジュールの読み込み"
   ]
  },
  {
   "cell_type": "code",
   "execution_count": 2,
   "metadata": {},
   "outputs": [],
   "source": [
    "import pandas as pd\n",
    "import numpy as np\n",
    "from pandas import Series, DataFrame\n",
    "import scipy as sp\n",
    "import scipy.stats\n",
    "import sklearn.cluster as cluster \n",
    "from sklearn.decomposition import PCA\n",
    "import sklearn.tree as tree\n",
    "from sklearn.grid_search import GridSearchCV\n",
    "import matplotlib.pyplot as plt\n",
    "import matplotlib as mpl\n",
    "import datetime\n",
    "import glob\n",
    "import os\n",
    "import csv\n",
    "import io"
   ]
  },
  {
   "cell_type": "markdown",
   "metadata": {},
   "source": [
    "# ファイル読み込み＆結合"
   ]
  },
  {
   "cell_type": "code",
   "execution_count": 3,
   "metadata": {},
   "outputs": [],
   "source": [
    "##### レース結果の情報を読み込む関数\n",
    "def read_data(path):\n",
    "    ## 指定したpathに保存してあるcsvファイルをすべて読み込む\n",
    "    files = glob.glob(os.path.join(path,'*.csv'))\n",
    "    ## 列名を読み込むためのフラグを指定\n",
    "    flag = 0\n",
    "    \n",
    "    df_list = []\n",
    "    for file in files:\n",
    "        ## 最初のファイルは普通に読み込み，カラム名を別途保存\n",
    "        if flag == 0:\n",
    "            tmp_df = pd.read_csv(file, encoding='cp932')\n",
    "            columns = tmp_df.columns\n",
    "            flag = 1\n",
    "        ## 2個目以降のファイルは保存したカラム名を基に読み込みを実施\n",
    "        else:\n",
    "            tmp_df = pd.read_csv(file, encoding='cp932', names = columns)\n",
    "            \n",
    "        df_list.append(tmp_df)\n",
    "    df = pd.concat(df_list, ignore_index=True,)\n",
    "    ## 列名を余分に読み込んでしまっているので，除外しておく\n",
    "    df = df[df['racekey'] != 'racekey']\n",
    "    ## 最初は全て文字列型として読み込む\n",
    "    df = df.applymap(str)\n",
    "    ff = pd.DataFrame(df)\n",
    "    return ff"
   ]
  },
  {
   "cell_type": "code",
   "execution_count": 4,
   "metadata": {},
   "outputs": [
    {
     "name": "stdout",
     "output_type": "stream",
     "text": [
      "Wall time: 2min 50s\n"
     ]
    }
   ],
   "source": [
    "%%time\n",
    "## 読み込みの実施\n",
    "df_race = read_data('./inputs/race_data')\n",
    "df_horse = read_data('./inputs/horse_data')\n",
    "df_result = read_data('./inputs/result_data')\n",
    "df_just_before_info = read_data('./inputs/just_before_info')\n",
    "df_practice = read_data('./inputs/practice')\n",
    "df_oikiri = read_data('./inputs/oikiri')\n",
    "df_other_info = read_data('./inputs/other_info')"
   ]
  },
  {
   "cell_type": "code",
   "execution_count": 5,
   "metadata": {
    "scrolled": false
   },
   "outputs": [
    {
     "name": "stdout",
     "output_type": "stream",
     "text": [
      "(464071, 36)\n",
      "(464071, 125)\n",
      "(464071, 84)\n",
      "(464071, 34)\n",
      "(464071, 34)\n",
      "(464071, 29)\n",
      "(464071, 27)\n"
     ]
    }
   ],
   "source": [
    "##### データサイズチェック\n",
    "print(df_race.shape)\n",
    "print(df_horse.shape)\n",
    "print(df_result.shape)\n",
    "print(df_just_before_info.shape)\n",
    "print(df_practice.shape)\n",
    "print(df_oikiri.shape)\n",
    "print(df_other_info.shape)"
   ]
  },
  {
   "cell_type": "markdown",
   "metadata": {},
   "source": [
    "## ここで，最低限の前処理を行ったdfを中間テーブルとして保存しておく"
   ]
  },
  {
   "cell_type": "code",
   "execution_count": 6,
   "metadata": {},
   "outputs": [],
   "source": [
    "##### 特定期間のdfを結合したdfを，中間テーブルとして保存しておく\n",
    "todays_str = str(datetime.date.today())\n",
    "df_race.to_csv('./intermediates/' + 'df_race_' + todays_str + '.csv')\n",
    "df_horse.to_csv('./intermediates/' + 'df_horse_' + todays_str + '.csv')\n",
    "df_result.to_csv('./intermediates/' + 'df_result_' + todays_str + '.csv')\n",
    "df_just_before_info.to_csv('./intermediates/' + 'df_just_before_info_' + todays_str + '.csv')\n",
    "df_practice.to_csv('./intermediates/' + 'df_practice_' + todays_str + '.csv')\n",
    "df_oikiri.to_csv('./intermediates/' + 'df_oikiri_' + todays_str + '.csv')\n",
    "df_other_info.to_csv('./intermediates/' + 'df_other_info_' + todays_str + '.csv')"
   ]
  },
  {
   "cell_type": "markdown",
   "metadata": {},
   "source": [
    "## 中間テーブルからファイルを読み込めるようにしておく"
   ]
  },
  {
   "cell_type": "code",
   "execution_count": 7,
   "metadata": {},
   "outputs": [
    {
     "name": "stderr",
     "output_type": "stream",
     "text": [
      "<string>:2: DtypeWarning: Columns (1,6) have mixed types. Specify dtype option on import or set low_memory=False.\n",
      "<string>:2: DtypeWarning: Columns (1,7,35,36,44,73,74) have mixed types. Specify dtype option on import or set low_memory=False.\n",
      "<string>:2: DtypeWarning: Columns (1,7,64,65,66,67,75,79,80) have mixed types. Specify dtype option on import or set low_memory=False.\n",
      "<string>:2: DtypeWarning: Columns (1,7) have mixed types. Specify dtype option on import or set low_memory=False.\n"
     ]
    },
    {
     "name": "stdout",
     "output_type": "stream",
     "text": [
      "Wall time: 31.9 s\n"
     ]
    }
   ],
   "source": [
    "%%time\n",
    "file_dates = '2019-05-26'\n",
    "df_race = pd.read_csv('./intermediates/' + 'df_race_' + file_dates + '.csv', index_col = 0)\n",
    "df_horse = pd.read_csv('./intermediates/' + 'df_horse_' + file_dates + '.csv', index_col = 0)\n",
    "df_result = pd.read_csv('./intermediates/' + 'df_result_' + file_dates + '.csv', index_col = 0)\n",
    "df_just_before_info = pd.read_csv('./intermediates/' + 'df_just_before_info_' + file_dates + '.csv', index_col = 0)\n",
    "df_practice = pd.read_csv('./intermediates/' + 'df_practice_' + file_dates + '.csv', index_col = 0)\n",
    "df_oikiri = pd.read_csv('./intermediates/' + 'df_oikiri_' + file_dates + '.csv', index_col = 0)\n",
    "df_other_info = pd.read_csv('./intermediates/' + 'df_other_info_' + file_dates + '.csv', index_col = 0)"
   ]
  },
  {
   "cell_type": "code",
   "execution_count": 8,
   "metadata": {
    "scrolled": false
   },
   "outputs": [
    {
     "name": "stdout",
     "output_type": "stream",
     "text": [
      "  oldracekey           racekey 場コード   年  回  日  Ｒ       年月日  発走時間    距離  \\\n",
      "0    6101101  2010010506010101   中山  10  1  1  1  20100105   950  1200   \n",
      "1    6101101  2010010506010101   中山  10  1  1  1  20100105   950  1200   \n",
      "2    6101101  2010010506010101   中山  10  1  1  1  20100105   950  1200   \n",
      "3    6101101  2010010506010101   中山  10  1  1  1  20100105   950  1200   \n",
      "4    6101101  2010010506010101   中山  10  1  1  1  20100105   950  1200   \n",
      "\n",
      "      ...        レース名９文字 データ区分 １着賞金 ２着賞金 ３着賞金 ４着賞金 ５着賞金 １着算入賞金 ２着算入賞金  \\\n",
      "0     ...      ３歳未勝利　　　　     4  500  200  130   75   50    400      0   \n",
      "1     ...      ３歳未勝利　　　　     4  500  200  130   75   50    400      0   \n",
      "2     ...      ３歳未勝利　　　　     4  500  200  130   75   50    400      0   \n",
      "3     ...      ３歳未勝利　　　　     4  500  200  130   75   50    400      0   \n",
      "4     ...      ３歳未勝利　　　　     4  500  200  130   75   50    400      0   \n",
      "\n",
      "  Unnamed: 35  \n",
      "0         NaN  \n",
      "1         NaN  \n",
      "2         NaN  \n",
      "3         NaN  \n",
      "4         NaN  \n",
      "\n",
      "[5 rows x 36 columns]\n",
      "    oldkskey               kskey           racekey  場コード   年  回  日  Ｒ  馬番  \\\n",
      "0  610110101  201001050601010101  2010010506010101     6  10  1  1  1   1   \n",
      "1  610110102  201001050601010102  2010010506010101     6  10  1  1  1   2   \n",
      "2  610110103  201001050601010103  2010010506010101     6  10  1  1  1   3   \n",
      "3  610110104  201001050601010104  2010010506010101     6  10  1  1  1   4   \n",
      "4  610110105  201001050601010105  2010010506010101     6  10  1  1  1   5   \n",
      "\n",
      "    血統登録番号      ...      馬スタート指数  馬出遅率  参考前走  参考前走騎手コード  万券指数 万券印 降級フラグ 激走タイプ  \\\n",
      "0  7104474      ...          0.0   0.0    1       0711     27   　    　　         \n",
      "1  7106506      ...          0.0   0.0    1       1025     30   　    　　         \n",
      "2  7105515      ...          0.0   0.0    1       1092     18   　    　　         \n",
      "3  7105314      ...         -0.1  25.0    1       1061     37   　    　　         \n",
      "4  7101891      ...         -0.2  20.0    1       1043     48   ○    　　         \n",
      "\n",
      "  休養理由分類コード  Unnamed: 124  \n",
      "0                     NaN  \n",
      "1                     NaN  \n",
      "2                     NaN  \n",
      "3                     NaN  \n",
      "4                     NaN  \n",
      "\n",
      "[5 rows x 125 columns]\n"
     ]
    }
   ],
   "source": [
    "##### データチェックを実施\n",
    "##### memo→df_raceは不要．df_resultとdf_horseを基本的にはうまく編集していく\n",
    "print(df_race.head())\n",
    "print(df_horse.head())"
   ]
  },
  {
   "cell_type": "markdown",
   "metadata": {},
   "source": [
    "# データの前処理を実施"
   ]
  },
  {
   "cell_type": "markdown",
   "metadata": {},
   "source": [
    "## 日付のカラムのデータ形式を変更"
   ]
  },
  {
   "cell_type": "code",
   "execution_count": 13,
   "metadata": {},
   "outputs": [],
   "source": [
    "def change_date_columns(df, date_str):\n",
    "    if '年月日' in df.columns: \n",
    "        df['年月日'] = df['年月日'].astype(str)\n",
    "        df['年月日' + date_str] = pd.to_datetime(df['年月日'].str[0:4] + '-' + df['年月日'].str[4:6] + '-' + df['年月日'].str[6:8])\n",
    "        df = df.drop('年月日', axis = 1)\n",
    "    return df"
   ]
  },
  {
   "cell_type": "code",
   "execution_count": 14,
   "metadata": {
    "scrolled": true
   },
   "outputs": [],
   "source": [
    "df_race = change_date_columns(df_race, 'race')\n",
    "df_horse = change_date_columns(df_horse, 'horse')\n",
    "df_result = change_date_columns(df_result, 'result')\n",
    "df_just_before_info = change_date_columns(df_just_before_info, 'jb_info')\n",
    "df_practice = change_date_columns(df_practice, 'practice')\n",
    "df_oikiri = change_date_columns(df_oikiri, 'oikiri')\n",
    "df_other_info = change_date_columns(df_other_info, 'other_info')"
   ]
  },
  {
   "cell_type": "markdown",
   "metadata": {},
   "source": [
    "## カラムの形式について，数値に変換できるものは変換する"
   ]
  },
  {
   "cell_type": "code",
   "execution_count": 15,
   "metadata": {},
   "outputs": [],
   "source": [
    "## xがfloat型に変換可能かを判定する関数(flagが1なら変換可能)\n",
    "def float_value_judge(x):\n",
    "    float_flag = 1\n",
    "    try:\n",
    "        x = float(x)\n",
    "    except ValueError:\n",
    "        float_flag = 0\n",
    "    except TypeError:\n",
    "        float_flag = 0\n",
    "    return float_flag\n",
    "\n",
    "## xをfloat型に変換する関数(変換できない場合はnp.nanに強制変換)\n",
    "def convert_float(x):\n",
    "    try:\n",
    "        x = float(x)\n",
    "    except ValueError:\n",
    "        x = np.nan\n",
    "    return x\n",
    "\n",
    "## 変換可能なカラム全てに対して，型をfloat型に変換する関数\n",
    "def change_col_type(df):\n",
    "    cols = df.columns\n",
    "    df_tmp = df.copy()\n",
    "    for col in cols:\n",
    "        flag_list = df_tmp[col].apply(float_value_judge)\n",
    "        ## flag==1の割合が99%以上である場合は，型の変換が可能であるとみなす\n",
    "        if np.sum(flag_list)/len(flag_list) >= 0.99:\n",
    "            df[col] = df[col].apply(convert_float)\n",
    "        \n",
    "    print('conversion is finished')\n",
    "    return df"
   ]
  },
  {
   "cell_type": "code",
   "execution_count": 16,
   "metadata": {
    "scrolled": false
   },
   "outputs": [
    {
     "name": "stdout",
     "output_type": "stream",
     "text": [
      "conversion is finished\n",
      "conversion is finished\n",
      "conversion is finished\n",
      "conversion is finished\n",
      "conversion is finished\n",
      "conversion is finished\n",
      "conversion is finished\n",
      "Wall time: 3min 24s\n"
     ]
    }
   ],
   "source": [
    "%%time\n",
    "df_race = change_col_type(df_race)\n",
    "df_result = change_col_type(df_result)\n",
    "df_horse = change_col_type(df_horse)\n",
    "df_just_before_info = change_col_type(df_just_before_info)\n",
    "df_practice = change_col_type(df_practice)\n",
    "df_oikiri = change_col_type(df_oikiri)\n",
    "df_other_info = change_col_type(df_other_info)"
   ]
  },
  {
   "cell_type": "markdown",
   "metadata": {},
   "source": [
    "## あるdfでは文字列，別のdfでは数値となっているカラムについて，型を数値に揃える"
   ]
  },
  {
   "cell_type": "code",
   "execution_count": 17,
   "metadata": {},
   "outputs": [],
   "source": [
    "def change_key_columns(df_category, df_str, target):\n",
    "    ## 競馬場名とそのコードをリスト化\n",
    "    str_list = df_str[target].unique()\n",
    "    category_list = df_category[target].astype('float').unique()\n",
    "    \n",
    "    ## 競馬場名とそのコードの関係を辞書化\n",
    "    target_dict = {}\n",
    "    i = 0\n",
    "    for s in str_list:\n",
    "        target_dict[s] = category_list[i]\n",
    "        i += 1\n",
    "    \n",
    "    ## 競馬場名が文字列で与えられているdfについて，コードへの変換を実施\n",
    "    df_str[target] = df_str[target].map(target_dict)\n",
    "    return df_str"
   ]
  },
  {
   "cell_type": "code",
   "execution_count": 18,
   "metadata": {},
   "outputs": [],
   "source": [
    "target_columns = ['場コード', '芝ダ障害コード', '右左', '内外']"
   ]
  },
  {
   "cell_type": "code",
   "execution_count": 19,
   "metadata": {},
   "outputs": [],
   "source": [
    "## 全てのdfに対して，文字列の情報を数値に変換\n",
    "for target in target_columns:\n",
    "    if target in df_race.columns:\n",
    "        df_race = change_key_columns(df_result, df_race, target)\n",
    "    if target in df_result.columns:\n",
    "        df_result[target] = df_result[target].astype('float')\n",
    "    if target in df_horse.columns:\n",
    "        df_horse[target] = df_horse[target].astype('float')\n",
    "    if target in df_just_before_info.columns:\n",
    "        df_just_before_info[target] = df_just_before_info[target].astype('float')\n",
    "    if target in df_practice.columns:\n",
    "        df_practice[target] = df_practice[target].astype('float')\n",
    "    if target in df_oikiri.columns:\n",
    "        df_oikiri[target] = df_oikiri[target].astype('float')\n",
    "    if target in df_other_info.columns:\n",
    "        df_other_info[target] = df_other_info[target].astype('float')"
   ]
  },
  {
   "cell_type": "code",
   "execution_count": 20,
   "metadata": {},
   "outputs": [
    {
     "name": "stdout",
     "output_type": "stream",
     "text": [
      "               馬名 ゴール順位   ＩＤＭ\n",
      "464711    ヴァニラアイス     8  56.2\n",
      "464712     オルトグラフ     9  45.0\n",
      "464713   ブルベアイリーデ     6  49.0\n",
      "464714    タイミングナウ    10  53.0\n",
      "464715   アヴァンティスト     5  56.1\n",
      "464716  ケイアイターコイズ     7  53.0\n",
      "464717    オリオンパッチ     4  56.3\n",
      "464718     レッドルゼル     3  56.0\n",
      "464719     モンペルデュ    13  52.0\n",
      "464720   ボストンテソーロ     1  57.0\n",
      "464721    グランプリワン    11  52.0\n",
      "464722     ココフィーユ    15  47.0\n",
      "464723  ショウナンガナドル    12  51.0\n",
      "464724  ジャパンスウェプト    14  55.0\n",
      "464725  ニューモニュメント     2  59.0\n",
      "               馬名    着順  ＩＤＭ\n",
      "464711    ヴァニラアイス   1.0   63\n",
      "464712     オルトグラフ  10.0   51\n",
      "464713   ブルベアイリーデ   4.0   60\n",
      "464714    タイミングナウ  14.0   44\n",
      "464715   アヴァンティスト   8.0   57\n",
      "464716  ケイアイターコイズ   2.0   62\n",
      "464717    オリオンパッチ   5.0   58\n",
      "464718     レッドルゼル   7.0   56\n",
      "464719     モンペルデュ   3.0   61\n",
      "464720   ボストンテソーロ   6.0   57\n",
      "464721    グランプリワン  13.0   45\n",
      "464722     ココフィーユ  15.0   32\n",
      "464723  ショウナンガナドル  12.0   48\n",
      "464724  ジャパンスウェプト  11.0   48\n",
      "464725  ニューモニュメント   9.0   54\n"
     ]
    }
   ],
   "source": [
    "## df_horseの「ゴール順位」は事前に予想されたゴール順を表す\n",
    "## df_resultの「着順」は実際のゴール順\n",
    "df_horse_test = df_horse[df_horse['kskey'] == 201904280803031000][['馬名', 'ゴール順位', 'ＩＤＭ']]\n",
    "df_result_test = df_result[df_result['kskey'] == 201904280803031000][['馬名', '着順', 'ＩＤＭ']]\n",
    "print(df_horse_test.head(20))\n",
    "print(df_result_test.head(20))"
   ]
  },
  {
   "cell_type": "markdown",
   "metadata": {},
   "source": [
    "# ここから特徴量の集計を開始"
   ]
  },
  {
   "cell_type": "code",
   "execution_count": 21,
   "metadata": {},
   "outputs": [
    {
     "name": "stdout",
     "output_type": "stream",
     "text": [
      "Index(['oldracekey', 'racekey', '場コード', '年', '回', '日', 'Ｒ', '発走時間', '距離',\n",
      "       '芝ダ障害コード', '右左', '内外', '種別', '条件', '記号1', '記号2', '記号3', '重量', 'グレード',\n",
      "       'レース名', '回数', '頭数', 'コース', '開催区分', 'レース名短縮', 'レース名９文字', 'データ区分', '１着賞金',\n",
      "       '２着賞金', '３着賞金', '４着賞金', '５着賞金', '１着算入賞金', '２着算入賞金', 'Unnamed: 35',\n",
      "       '年月日race'],\n",
      "      dtype='object')\n",
      "Index(['oldkskey', 'kskey', 'racekey', '場コード', '年', '回', '日', 'Ｒ', '馬番',\n",
      "       '血統登録番号',\n",
      "       ...\n",
      "       '馬スタート指数', '馬出遅率', '参考前走', '参考前走騎手コード', '万券指数', '万券印', '降級フラグ', '激走タイプ',\n",
      "       '休養理由分類コード', 'Unnamed: 124'],\n",
      "      dtype='object', length=125)\n",
      "Index(['oldkskey', 'kskey', 'racekey', '場コード', '年', '回', '日', 'Ｒ', '馬番',\n",
      "       '血統登録番号', '馬名', '距離', '芝ダ障害コード', '右左', '内外', '馬場状態', '種別', '条件', '記号',\n",
      "       '重量', 'グレード', 'レース名', '頭数', 'レース名略称', '着順', '異常区分', 'タイム', '斤量', '騎手名',\n",
      "       '調教師名', '確定単勝オッズ', '確定単勝人気順位', 'ＩＤＭ', '素点', '馬場差', 'ペース', '出遅', '位置取',\n",
      "       '不利', '前不利', '中不利', '後不利', 'レース', 'コース取り', '上昇度コード', 'クラスコード', '馬体コード',\n",
      "       '気配コード', 'レースペース', '馬ペース', 'テン指数', '上がり指数', 'ペース指数', 'レースＰ指数',\n",
      "       '1(2)着馬名', '1(2)着タイム差', '前３Ｆタイム', '後３Ｆタイム', '備考', '確定複勝オッズ下',\n",
      "       '10時単勝オッズ', '10時複勝オッズ', 'コーナー順位１', 'コーナー順位２', 'コーナー順位３', 'コーナー順位４',\n",
      "       '前３Ｆ先頭差', '後３Ｆ先頭差', '騎手コード', '調教師コード', '馬体重', '馬体重増減', '天候コード', 'コース',\n",
      "       'レース脚質', '単勝', '複勝', '本賞金', '収得賞金', 'レースペース流れ', '馬ペース流れ', '４角コース取り',\n",
      "       'Unnamed: 83', '年月日result'],\n",
      "      dtype='object')\n",
      "Index(['oldkskey', 'kskey', 'racekey', '場コード', '年', '回', '日', 'Ｒ', '馬番', 'ＩＤＭ',\n",
      "       '騎手指数', '情報指数', 'オッズ指数', 'パドック指数', '予備１', '総合指数', '馬具変更情報', '脚元情報',\n",
      "       '取消フラグ', '騎手コード', '騎手名', '負担重量', '見習い区分', '馬場状態コード', '天候コード', '単勝オッズ',\n",
      "       '複勝オッズ', 'オッズ取得時間', '馬体重', '馬体重増減', 'オッズ印', 'パドック印', '直前総合印',\n",
      "       'Unnamed: 33'],\n",
      "      dtype='object')\n",
      "Index(['oldkskey', 'kskey', 'racekey', '場コード', '年', '回', '日', 'Ｒ', '馬番', 'ＩＤＭ',\n",
      "       '騎手指数', '情報指数', 'オッズ指数', 'パドック指数', '予備１', '総合指数', '馬具変更情報', '脚元情報',\n",
      "       '取消フラグ', '騎手コード', '騎手名', '負担重量', '見習い区分', '馬場状態コード', '天候コード', '単勝オッズ',\n",
      "       '複勝オッズ', 'オッズ取得時間', '馬体重', '馬体重増減', 'オッズ印', 'パドック印', '直前総合印',\n",
      "       'Unnamed: 33'],\n",
      "      dtype='object')\n",
      "Index(['oldkskey', 'kskey', 'racekey', '場コード', '年', '回', '日', 'Ｒ', '馬番', '曜日',\n",
      "       '調教年月日', '回数', '調教コースコード', '追切種類', '追い状態', '乗り役', '調教Ｆ', 'テンＦ', '中間Ｆ',\n",
      "       '終いＦ', 'テンＦ指数', '中間Ｆ指数', '終いＦ指数', '追切指数', '併せ結果', '相手追切種類', '年齢', 'クラス',\n",
      "       'Unnamed: 28'],\n",
      "      dtype='object')\n",
      "Index(['oldkskey', 'kskey', 'racekey', '場コード', '年', '回', '日', 'Ｒ', '馬番',\n",
      "       '血統登録番号', '馬名', '基準オッズ', '基準複勝オッズ', 'CID調教素点', 'CID厩舎素点', 'CID素点',\n",
      "       'CID', 'LS指数', 'LS評価', 'EM', '厩舎ＢＢ印', '厩舎ＢＢ◎単勝回収率', '厩舎ＢＢ◎連対率', '騎手ＢＢ印',\n",
      "       '騎手ＢＢ◎単勝回収率', '騎手ＢＢ◎連対率', 'Unnamed: 26'],\n",
      "      dtype='object')\n"
     ]
    }
   ],
   "source": [
    "##### カラム名を確認\n",
    "print(df_race.columns)\n",
    "print(df_horse.columns)\n",
    "print(df_result.columns)\n",
    "print(df_just_before_info.columns)\n",
    "print(df_practice.columns)\n",
    "print(df_oikiri.columns)\n",
    "print(df_other_info.columns)"
   ]
  },
  {
   "cell_type": "markdown",
   "metadata": {},
   "source": [
    "## まずは現在の日付をもとに，集計対象のレースとそれに対して遡ってデータを取得する期間を決定"
   ]
  },
  {
   "cell_type": "code",
   "execution_count": 22,
   "metadata": {},
   "outputs": [
    {
     "name": "stdout",
     "output_type": "stream",
     "text": [
      "2019-05-26\n",
      "2018-05-26\n",
      "2014-05-27\n"
     ]
    }
   ],
   "source": [
    "todays_date = datetime.date.today()\n",
    "train_start_date = todays_date - datetime.timedelta(days = 365 * 1)\n",
    "train_end_date = todays_date - datetime.timedelta(days = 365 * 5)\n",
    "print(todays_date)\n",
    "print(train_start_date)\n",
    "print(train_end_date)"
   ]
  },
  {
   "cell_type": "markdown",
   "metadata": {},
   "source": [
    "## 2つのデータフレームにおいて，重複するカラムを除外した上でjoinする関数を定義"
   ]
  },
  {
   "cell_type": "code",
   "execution_count": 23,
   "metadata": {},
   "outputs": [],
   "source": [
    "def join_drop_duplicates(df1, df2, join_key, how_to):\n",
    "    ## 2つのデータフレームに共通するカラムが，join_keyの候補となる\n",
    "    duplicate_col = (df1.columns & df2.columns)\n",
    "    ## join_keyとして使用しないカラムは重複してしまうので，あらかじめリストとして保持\n",
    "    for element in join_key:\n",
    "        duplicate_col = duplicate_col.drop(element) \n",
    "        \n",
    "    ## 重複するカラムを除外\n",
    "    df2 = df2.drop(duplicate_col, axis = 1)\n",
    "    ## df1, df2をjoin\n",
    "    df = pd.merge(df1, df2, on = join_key, how = how_to, copy = False)"
   ]
  },
  {
   "cell_type": "markdown",
   "metadata": {},
   "source": [
    "## train_start_date~train_end_dateの期間のレース結果（df_result）を集計し，df_resultに追加していく"
   ]
  },
  {
   "cell_type": "code",
   "execution_count": 24,
   "metadata": {
    "scrolled": false
   },
   "outputs": [
    {
     "data": {
      "text/html": [
       "<div>\n",
       "<style scoped>\n",
       "    .dataframe tbody tr th:only-of-type {\n",
       "        vertical-align: middle;\n",
       "    }\n",
       "\n",
       "    .dataframe tbody tr th {\n",
       "        vertical-align: top;\n",
       "    }\n",
       "\n",
       "    .dataframe thead th {\n",
       "        text-align: right;\n",
       "    }\n",
       "</style>\n",
       "<table border=\"1\" class=\"dataframe\">\n",
       "  <thead>\n",
       "    <tr style=\"text-align: right;\">\n",
       "      <th></th>\n",
       "      <th>oldkskey</th>\n",
       "      <th>kskey</th>\n",
       "      <th>racekey</th>\n",
       "      <th>場コード</th>\n",
       "      <th>年</th>\n",
       "      <th>回</th>\n",
       "      <th>日</th>\n",
       "      <th>Ｒ</th>\n",
       "      <th>年月日result</th>\n",
       "      <th>馬番</th>\n",
       "      <th>...</th>\n",
       "      <th>コーナー順位１</th>\n",
       "      <th>コーナー順位２</th>\n",
       "      <th>コーナー順位３</th>\n",
       "      <th>コーナー順位４</th>\n",
       "      <th>前３Ｆ先頭差</th>\n",
       "      <th>後３Ｆ先頭差</th>\n",
       "      <th>騎手コード</th>\n",
       "      <th>馬体重</th>\n",
       "      <th>レース脚質</th>\n",
       "      <th>４角コース取り</th>\n",
       "    </tr>\n",
       "  </thead>\n",
       "  <tbody>\n",
       "    <tr>\n",
       "      <th>0</th>\n",
       "      <td>610110101</td>\n",
       "      <td>2.010011e+17</td>\n",
       "      <td>2.010011e+15</td>\n",
       "      <td>6.0</td>\n",
       "      <td>10.0</td>\n",
       "      <td>1.0</td>\n",
       "      <td>1</td>\n",
       "      <td>1.0</td>\n",
       "      <td>2010-01-05</td>\n",
       "      <td>1.0</td>\n",
       "      <td>...</td>\n",
       "      <td>0.0</td>\n",
       "      <td>11.0</td>\n",
       "      <td>10.0</td>\n",
       "      <td>8.0</td>\n",
       "      <td>-10</td>\n",
       "      <td>-10</td>\n",
       "      <td>10539.0</td>\n",
       "      <td>436.0</td>\n",
       "      <td>差</td>\n",
       "      <td>内</td>\n",
       "    </tr>\n",
       "    <tr>\n",
       "      <th>1</th>\n",
       "      <td>610110102</td>\n",
       "      <td>2.010011e+17</td>\n",
       "      <td>2.010011e+15</td>\n",
       "      <td>6.0</td>\n",
       "      <td>10.0</td>\n",
       "      <td>1.0</td>\n",
       "      <td>1</td>\n",
       "      <td>1.0</td>\n",
       "      <td>2010-01-05</td>\n",
       "      <td>2.0</td>\n",
       "      <td>...</td>\n",
       "      <td>0.0</td>\n",
       "      <td>13.0</td>\n",
       "      <td>13.0</td>\n",
       "      <td>11.0</td>\n",
       "      <td>-13</td>\n",
       "      <td>-13</td>\n",
       "      <td>10442.0</td>\n",
       "      <td>470.0</td>\n",
       "      <td>追</td>\n",
       "      <td>内</td>\n",
       "    </tr>\n",
       "    <tr>\n",
       "      <th>2</th>\n",
       "      <td>610110103</td>\n",
       "      <td>2.010011e+17</td>\n",
       "      <td>2.010011e+15</td>\n",
       "      <td>6.0</td>\n",
       "      <td>10.0</td>\n",
       "      <td>1.0</td>\n",
       "      <td>1</td>\n",
       "      <td>1.0</td>\n",
       "      <td>2010-01-05</td>\n",
       "      <td>3.0</td>\n",
       "      <td>...</td>\n",
       "      <td>0.0</td>\n",
       "      <td>8.0</td>\n",
       "      <td>12.0</td>\n",
       "      <td>13.0</td>\n",
       "      <td>-11</td>\n",
       "      <td>-11</td>\n",
       "      <td>10528.0</td>\n",
       "      <td>424.0</td>\n",
       "      <td>追</td>\n",
       "      <td>最</td>\n",
       "    </tr>\n",
       "    <tr>\n",
       "      <th>3</th>\n",
       "      <td>610110104</td>\n",
       "      <td>2.010011e+17</td>\n",
       "      <td>2.010011e+15</td>\n",
       "      <td>6.0</td>\n",
       "      <td>10.0</td>\n",
       "      <td>1.0</td>\n",
       "      <td>1</td>\n",
       "      <td>1.0</td>\n",
       "      <td>2010-01-05</td>\n",
       "      <td>4.0</td>\n",
       "      <td>...</td>\n",
       "      <td>0.0</td>\n",
       "      <td>12.0</td>\n",
       "      <td>10.0</td>\n",
       "      <td>9.0</td>\n",
       "      <td>-10</td>\n",
       "      <td>-10</td>\n",
       "      <td>10542.0</td>\n",
       "      <td>428.0</td>\n",
       "      <td>差</td>\n",
       "      <td>中</td>\n",
       "    </tr>\n",
       "    <tr>\n",
       "      <th>4</th>\n",
       "      <td>610110105</td>\n",
       "      <td>2.010011e+17</td>\n",
       "      <td>2.010011e+15</td>\n",
       "      <td>6.0</td>\n",
       "      <td>10.0</td>\n",
       "      <td>1.0</td>\n",
       "      <td>1</td>\n",
       "      <td>1.0</td>\n",
       "      <td>2010-01-05</td>\n",
       "      <td>5.0</td>\n",
       "      <td>...</td>\n",
       "      <td>0.0</td>\n",
       "      <td>8.0</td>\n",
       "      <td>6.0</td>\n",
       "      <td>5.0</td>\n",
       "      <td>-6</td>\n",
       "      <td>-6</td>\n",
       "      <td>10462.0</td>\n",
       "      <td>460.0</td>\n",
       "      <td>差</td>\n",
       "      <td>最</td>\n",
       "    </tr>\n",
       "  </tbody>\n",
       "</table>\n",
       "<p>5 rows × 37 columns</p>\n",
       "</div>"
      ],
      "text/plain": [
       "    oldkskey         kskey       racekey  場コード     年    回  日    Ｒ  年月日result  \\\n",
       "0  610110101  2.010011e+17  2.010011e+15   6.0  10.0  1.0  1  1.0 2010-01-05   \n",
       "1  610110102  2.010011e+17  2.010011e+15   6.0  10.0  1.0  1  1.0 2010-01-05   \n",
       "2  610110103  2.010011e+17  2.010011e+15   6.0  10.0  1.0  1  1.0 2010-01-05   \n",
       "3  610110104  2.010011e+17  2.010011e+15   6.0  10.0  1.0  1  1.0 2010-01-05   \n",
       "4  610110105  2.010011e+17  2.010011e+15   6.0  10.0  1.0  1  1.0 2010-01-05   \n",
       "\n",
       "    馬番   ...    コーナー順位１ コーナー順位２  コーナー順位３  コーナー順位４  前３Ｆ先頭差  後３Ｆ先頭差    騎手コード  \\\n",
       "0  1.0   ...        0.0    11.0     10.0      8.0     -10     -10  10539.0   \n",
       "1  2.0   ...        0.0    13.0     13.0     11.0     -13     -13  10442.0   \n",
       "2  3.0   ...        0.0     8.0     12.0     13.0     -11     -11  10528.0   \n",
       "3  4.0   ...        0.0    12.0     10.0      9.0     -10     -10  10542.0   \n",
       "4  5.0   ...        0.0     8.0      6.0      5.0      -6      -6  10462.0   \n",
       "\n",
       "     馬体重  レース脚質 ４角コース取り  \n",
       "0  436.0      差       内  \n",
       "1  470.0      追       内  \n",
       "2  424.0      追       最  \n",
       "3  428.0      差       中  \n",
       "4  460.0      差       最  \n",
       "\n",
       "[5 rows x 37 columns]"
      ]
     },
     "execution_count": 24,
     "metadata": {},
     "output_type": "execute_result"
    }
   ],
   "source": [
    "##### joinするデータフレームを確認しておく\n",
    "df_race_base = df_race[['oldracekey', 'racekey', '場コード', '年', '回', '日', 'Ｒ', '年月日race',\\\n",
    "                        '距離', '芝ダ障害コード', '右左', '内外', '種別', '条件', '頭数', 'コース', '開催区分']]\n",
    "\n",
    "df_horse_base = df_horse[['oldkskey', 'kskey', 'racekey', '場コード', '年', '回', '日', 'Ｒ', '馬番', '血統登録番号', '枠番']]#\n",
    "\n",
    "df_result_base1 = df_result_base2 = \\\n",
    "                df_result[['oldkskey', 'kskey', 'racekey', '場コード', '年', '回', '日', 'Ｒ', '年月日result',\\\n",
    "                '馬番', '血統登録番号', '馬名', '距離', '芝ダ障害コード', '右左', '内外', '着順', '異常区分', 'タイム',\\\n",
    "                'コース取り', 'テン指数', '上がり指数', 'ペース指数', '1(2)着馬名', '1(2)着タイム差',\\\n",
    "                '前３Ｆタイム', '後３Ｆタイム', 'コーナー順位１', 'コーナー順位２', 'コーナー順位３', 'コーナー順位４',\\\n",
    "                '前３Ｆ先頭差', '後３Ｆ先頭差', '騎手コード', '馬体重', 'レース脚質', '４角コース取り']]\n",
    "df_result_base1.head()"
   ]
  },
  {
   "cell_type": "code",
   "execution_count": 28,
   "metadata": {},
   "outputs": [
    {
     "name": "stdout",
     "output_type": "stream",
     "text": [
      "(198838, 37)\n",
      "(464071, 37)\n",
      "          oldkskey         kskey       racekey  場コード     年    回  日    Ｒ  \\\n",
      "221003  08143b0801  2.014053e+17  2.014053e+15   8.0  14.0  3.0  b  8.0   \n",
      "221004  08143b0802  2.014053e+17  2.014053e+15   8.0  14.0  3.0  b  8.0   \n",
      "221005  08143b0803  2.014053e+17  2.014053e+15   8.0  14.0  3.0  b  8.0   \n",
      "221006  08143b0804  2.014053e+17  2.014053e+15   8.0  14.0  3.0  b  8.0   \n",
      "221007  08143b0805  2.014053e+17  2.014053e+15   8.0  14.0  3.0  b  8.0   \n",
      "221008  08143b0806  2.014053e+17  2.014053e+15   8.0  14.0  3.0  b  8.0   \n",
      "221009  08143b0807  2.014053e+17  2.014053e+15   8.0  14.0  3.0  b  8.0   \n",
      "221010  08143b0808  2.014053e+17  2.014053e+15   8.0  14.0  3.0  b  8.0   \n",
      "221011  08143b0809  2.014053e+17  2.014053e+15   8.0  14.0  3.0  b  8.0   \n",
      "221312  08143c0401  2.014060e+17  2.014060e+15   8.0  14.0  3.0  c  4.0   \n",
      "221313  08143c0402  2.014060e+17  2.014060e+15   8.0  14.0  3.0  c  4.0   \n",
      "221314  08143c0403  2.014060e+17  2.014060e+15   8.0  14.0  3.0  c  4.0   \n",
      "221315  08143c0404  2.014060e+17  2.014060e+15   8.0  14.0  3.0  c  4.0   \n",
      "221316  08143c0405  2.014060e+17  2.014060e+15   8.0  14.0  3.0  c  4.0   \n",
      "221317  08143c0406  2.014060e+17  2.014060e+15   8.0  14.0  3.0  c  4.0   \n",
      "221318  08143c0407  2.014060e+17  2.014060e+15   8.0  14.0  3.0  c  4.0   \n",
      "221319  08143c0408  2.014060e+17  2.014060e+15   8.0  14.0  3.0  c  4.0   \n",
      "221320  08143c0409  2.014060e+17  2.014060e+15   8.0  14.0  3.0  c  4.0   \n",
      "221321  08143c0410  2.014060e+17  2.014060e+15   8.0  14.0  3.0  c  4.0   \n",
      "221322  08143c0411  2.014060e+17  2.014060e+15   8.0  14.0  3.0  c  4.0   \n",
      "221323  08143c0412  2.014060e+17  2.014060e+15   8.0  14.0  3.0  c  4.0   \n",
      "221324  08143c0413  2.014060e+17  2.014060e+15   8.0  14.0  3.0  c  4.0   \n",
      "221325  08143c0414  2.014060e+17  2.014060e+15   8.0  14.0  3.0  c  4.0   \n",
      "221555  0514310801  2.014061e+17  2.014061e+15   5.0  14.0  3.0  1  8.0   \n",
      "221556  0514310802  2.014061e+17  2.014061e+15   5.0  14.0  3.0  1  8.0   \n",
      "221557  0514310803  2.014061e+17  2.014061e+15   5.0  14.0  3.0  1  8.0   \n",
      "221558  0514310804  2.014061e+17  2.014061e+15   5.0  14.0  3.0  1  8.0   \n",
      "221559  0514310805  2.014061e+17  2.014061e+15   5.0  14.0  3.0  1  8.0   \n",
      "221560  0514310806  2.014061e+17  2.014061e+15   5.0  14.0  3.0  1  8.0   \n",
      "221561  0514310807  2.014061e+17  2.014061e+15   5.0  14.0  3.0  1  8.0   \n",
      "...            ...           ...           ...   ...   ...  ... ..  ...   \n",
      "418908  0418170113  2.018052e+17  2.018052e+15   4.0  18.0  1.0  7  1.0   \n",
      "418909  0418170114  2.018052e+17  2.018052e+15   4.0  18.0  1.0  7  1.0   \n",
      "418939  0418170401  2.018052e+17  2.018052e+15   4.0  18.0  1.0  7  4.0   \n",
      "418940  0418170402  2.018052e+17  2.018052e+15   4.0  18.0  1.0  7  4.0   \n",
      "418941  0418170403  2.018052e+17  2.018052e+15   4.0  18.0  1.0  7  4.0   \n",
      "418942  0418170404  2.018052e+17  2.018052e+15   4.0  18.0  1.0  7  4.0   \n",
      "418943  0418170405  2.018052e+17  2.018052e+15   4.0  18.0  1.0  7  4.0   \n",
      "418944  0418170406  2.018052e+17  2.018052e+15   4.0  18.0  1.0  7  4.0   \n",
      "418945  0418170407  2.018052e+17  2.018052e+15   4.0  18.0  1.0  7  4.0   \n",
      "418946  0418170408  2.018052e+17  2.018052e+15   4.0  18.0  1.0  7  4.0   \n",
      "418947  0418170409  2.018052e+17  2.018052e+15   4.0  18.0  1.0  7  4.0   \n",
      "418948  0418170410  2.018052e+17  2.018052e+15   4.0  18.0  1.0  7  4.0   \n",
      "418949  0418170411  2.018052e+17  2.018052e+15   4.0  18.0  1.0  7  4.0   \n",
      "418950  0418170412  2.018052e+17  2.018052e+15   4.0  18.0  1.0  7  4.0   \n",
      "418951  0418170413  2.018052e+17  2.018052e+15   4.0  18.0  1.0  7  4.0   \n",
      "418952  0418170414  2.018052e+17  2.018052e+15   4.0  18.0  1.0  7  4.0   \n",
      "419486  0418180401  2.018052e+17  2.018052e+15   4.0  18.0  1.0  8  4.0   \n",
      "419487  0418180402  2.018052e+17  2.018052e+15   4.0  18.0  1.0  8  4.0   \n",
      "419488  0418180403  2.018052e+17  2.018052e+15   4.0  18.0  1.0  8  4.0   \n",
      "419489  0418180404  2.018052e+17  2.018052e+15   4.0  18.0  1.0  8  4.0   \n",
      "419490  0418180405  2.018052e+17  2.018052e+15   4.0  18.0  1.0  8  4.0   \n",
      "419491  0418180406  2.018052e+17  2.018052e+15   4.0  18.0  1.0  8  4.0   \n",
      "419492  0418180407  2.018052e+17  2.018052e+15   4.0  18.0  1.0  8  4.0   \n",
      "419493  0418180408  2.018052e+17  2.018052e+15   4.0  18.0  1.0  8  4.0   \n",
      "419494  0418180409  2.018052e+17  2.018052e+15   4.0  18.0  1.0  8  4.0   \n",
      "419495  0418180410  2.018052e+17  2.018052e+15   4.0  18.0  1.0  8  4.0   \n",
      "419496  0418180411  2.018052e+17  2.018052e+15   4.0  18.0  1.0  8  4.0   \n",
      "419497  0418180412  2.018052e+17  2.018052e+15   4.0  18.0  1.0  8  4.0   \n",
      "419498  0418180413  2.018052e+17  2.018052e+15   4.0  18.0  1.0  8  4.0   \n",
      "419499  0418180414  2.018052e+17  2.018052e+15   4.0  18.0  1.0  8  4.0   \n",
      "\n",
      "        年月日result    馬番   ...    コーナー順位１ コーナー順位２  コーナー順位３  コーナー順位４  前３Ｆ先頭差  \\\n",
      "221003 2014-05-31   1.0   ...        6.0     6.0      7.0      6.0           \n",
      "221004 2014-05-31   2.0   ...        4.0     4.0      3.0      3.0           \n",
      "221005 2014-05-31   3.0   ...        7.0     7.0      5.0      4.0           \n",
      "221006 2014-05-31   4.0   ...        9.0     8.0      8.0      7.0           \n",
      "221007 2014-05-31   5.0   ...        5.0     5.0      5.0      0.0           \n",
      "221008 2014-05-31   6.0   ...        2.0     2.0      2.0      2.0           \n",
      "221009 2014-05-31   7.0   ...        1.0     1.0      1.0      1.0           \n",
      "221010 2014-05-31   8.0   ...        8.0     9.0      9.0      8.0           \n",
      "221011 2014-05-31   9.0   ...        2.0     3.0      3.0      5.0           \n",
      "221312 2014-06-01   1.0   ...        1.0     1.0      1.0      3.0           \n",
      "221313 2014-06-01   2.0   ...        7.0    11.0     10.0     10.0           \n",
      "221314 2014-06-01   3.0   ...        7.0     6.0      7.0      7.0           \n",
      "221315 2014-06-01   4.0   ...       13.0    13.0     11.0     11.0           \n",
      "221316 2014-06-01   5.0   ...        5.0     4.0      5.0      5.0           \n",
      "221317 2014-06-01   6.0   ...        2.0     6.0      8.0      8.0           \n",
      "221318 2014-06-01   7.0   ...        2.0     2.0      3.0      2.0           \n",
      "221319 2014-06-01   8.0   ...        4.0    10.0      0.0      0.0           \n",
      "221320 2014-06-01   9.0   ...       14.0    14.0     13.0     13.0           \n",
      "221321 2014-06-01  10.0   ...        9.0     8.0      5.0      5.0           \n",
      "221322 2014-06-01  11.0   ...       12.0    12.0     12.0     12.0           \n",
      "221323 2014-06-01  12.0   ...       11.0     4.0      3.0      4.0           \n",
      "221324 2014-06-01  13.0   ...        5.0     2.0      1.0      1.0           \n",
      "221325 2014-06-01  14.0   ...        9.0     8.0      9.0      9.0           \n",
      "221555 2014-06-07   1.0   ...        2.0     1.0      1.0      1.0           \n",
      "221556 2014-06-07   2.0   ...        7.0     5.0      5.0      7.0           \n",
      "221557 2014-06-07   3.0   ...        3.0     3.0      3.0      2.0           \n",
      "221558 2014-06-07   4.0   ...       10.0     6.0      7.0      5.0           \n",
      "221559 2014-06-07   5.0   ...        9.0    10.0      7.0      8.0           \n",
      "221560 2014-06-07   6.0   ...        8.0     6.0      5.0      5.0           \n",
      "221561 2014-06-07   7.0   ...        1.0     2.0      2.0      2.0           \n",
      "...           ...   ...   ...        ...     ...      ...      ...     ...   \n",
      "418908 2018-05-19  13.0   ...        2.0     4.0      4.0      3.0           \n",
      "418909 2018-05-19  14.0   ...        2.0     3.0      1.0      1.0           \n",
      "418939 2018-05-19   1.0   ...        1.0     1.0      6.0      6.0           \n",
      "418940 2018-05-19   2.0   ...       10.0    10.0      7.0      6.0           \n",
      "418941 2018-05-19   3.0   ...        6.0     7.0      7.0      8.0           \n",
      "418942 2018-05-19   4.0   ...        4.0     5.0     11.0     12.0           \n",
      "418943 2018-05-19   5.0   ...        4.0     4.0      4.0      3.0           \n",
      "418944 2018-05-19   6.0   ...        2.0     2.0      1.0      1.0           \n",
      "418945 2018-05-19   7.0   ...       13.0    14.0     13.0     13.0           \n",
      "418946 2018-05-19   8.0   ...        6.0    10.0     10.0     10.0           \n",
      "418947 2018-05-19   9.0   ...       10.0     9.0      4.0      3.0           \n",
      "418948 2018-05-19  10.0   ...        6.0     5.0      2.0      2.0           \n",
      "418949 2018-05-19  11.0   ...        6.0     7.0      9.0      9.0           \n",
      "418950 2018-05-19  12.0   ...        3.0     3.0      3.0      3.0           \n",
      "418951 2018-05-19  13.0   ...       10.0    12.0     11.0     11.0           \n",
      "418952 2018-05-19  14.0   ...       13.0    12.0     14.0     14.0           \n",
      "419486 2018-05-20   1.0   ...       12.0    10.0     11.0     11.0           \n",
      "419487 2018-05-20   2.0   ...       10.0     9.0      6.0      5.0           \n",
      "419488 2018-05-20   3.0   ...       10.0    10.0      8.0      8.0           \n",
      "419489 2018-05-20   4.0   ...        5.0     4.0      2.0      2.0           \n",
      "419490 2018-05-20   5.0   ...        1.0     1.0      1.0      1.0           \n",
      "419491 2018-05-20   6.0   ...       12.0    12.0      9.0      9.0           \n",
      "419492 2018-05-20   7.0   ...       12.0    14.0     14.0     14.0           \n",
      "419493 2018-05-20   8.0   ...        5.0     7.0      9.0      9.0           \n",
      "419494 2018-05-20   9.0   ...        3.0     3.0      3.0      2.0           \n",
      "419495 2018-05-20  10.0   ...        7.0     7.0      5.0      4.0           \n",
      "419496 2018-05-20  11.0   ...        7.0    12.0     13.0     13.0           \n",
      "419497 2018-05-20  12.0   ...        3.0     4.0      7.0      5.0           \n",
      "419498 2018-05-20  13.0   ...        2.0     2.0      4.0      5.0           \n",
      "419499 2018-05-20  14.0   ...        7.0     6.0     12.0     12.0           \n",
      "\n",
      "        後３Ｆ先頭差    騎手コード    馬体重  レース脚質 ４角コース取り  \n",
      "221003          10345.0  480.0      差       内  \n",
      "221004          10343.0  464.0      差       内  \n",
      "221005          10486.0  500.0      差       外  \n",
      "221006          10472.0  474.0      追       内  \n",
      "221007          10441.0  500.0      差          \n",
      "221008          10427.0  478.0      先       内  \n",
      "221009          10458.0  472.0      逃       内  \n",
      "221010          10521.0  466.0      追       内  \n",
      "221011          10479.0  476.0      先       外  \n",
      "221312          10486.0  498.0      逃       内  \n",
      "221313          10503.0  448.0      追       内  \n",
      "221314          10472.0  494.0      差       内  \n",
      "221315          10513.0  462.0      追       中  \n",
      "221316          10441.0  488.0      先       内  \n",
      "221317          10345.0  478.0      差       中  \n",
      "221318          10417.0  466.0      逃       内  \n",
      "221319          10521.0  502.0      追          \n",
      "221320          10540.0  442.0      追       内  \n",
      "221321          10343.0  492.0      差       外  \n",
      "221322          10378.0  462.0      追       内  \n",
      "221323          10427.0  518.0      先       中  \n",
      "221324          10458.0  514.0      逃       内  \n",
      "221325          10525.0  480.0      差       内  \n",
      "221555          10441.0  480.0      逃       中  \n",
      "221556          10424.0  540.0      差       内  \n",
      "221557          10468.0  468.0      先       内  \n",
      "221558          10511.0  494.0      追       外  \n",
      "221559          10472.0  474.0      追       内  \n",
      "221560          10486.0  474.0      差       内  \n",
      "221561          10343.0  482.0      先       内  \n",
      "...        ...      ...    ...    ...     ...  \n",
      "418908          10489.0  484.0      逃       中  \n",
      "418909          10503.0  440.0      逃       最  \n",
      "418939          10489.0  512.0      逃       内  \n",
      "418940          10488.0  506.0      追       大  \n",
      "418941          10540.0  436.0      差       中  \n",
      "418942          10487.0  442.0      先       最  \n",
      "418943          10559.0  482.0      先       中  \n",
      "418944          10378.0  476.0      逃       最  \n",
      "418945          10493.0  488.0      追       中  \n",
      "418946          10424.0  454.0      差       中  \n",
      "418947          10511.0  490.0      追       外  \n",
      "418948          10380.0  460.0      差       内  \n",
      "418949          10543.0  502.0      差       内  \n",
      "418950          10483.0  484.0      先       最  \n",
      "418951          10521.0  494.0      追       中  \n",
      "418952          10486.0  510.0      追       内  \n",
      "419486          10511.0  504.0      追       中  \n",
      "419487          10468.0  508.0      追       中  \n",
      "419488          10380.0  468.0      追       中  \n",
      "419489          10521.0  464.0      先       内  \n",
      "419490          10489.0  510.0      逃       最  \n",
      "419491          10479.0  492.0      追       外  \n",
      "419492          10563.0  462.0      追       最  \n",
      "419493          10559.0  498.0      先       最  \n",
      "419494          10533.0  480.0      先       中  \n",
      "419495          10543.0  510.0      差       内  \n",
      "419496          10458.0  522.0      差       最  \n",
      "419497          10486.0  478.0      先       最  \n",
      "419498          10483.0  498.0      逃       内  \n",
      "419499          10424.0  418.0      差       中  \n",
      "\n",
      "[6323 rows x 37 columns]\n"
     ]
    }
   ],
   "source": [
    "#####race_dataについては，期間を一定に絞る & 障害レースを除外\n",
    "df_result_base1 = df_result_base1[(df_result_base1['年月日result'] > pd.to_datetime(train_end_date)) & \\\n",
    "                                 (df_result_base1['年月日result'] < pd.to_datetime(train_start_date))]\n",
    "\n",
    "## データサイズのチェック\n",
    "print(df_result_base1.shape) ## 期間を絞った後\n",
    "print(df_result_base2.shape) ## 全期間\n",
    "print(df_result_base1[df_result_base1['芝ダ障害コード'] == 3])"
   ]
  },
  {
   "cell_type": "code",
   "execution_count": null,
   "metadata": {},
   "outputs": [],
   "source": [
    "df_result_aggregate_tmp = join_drop_duplicates(df_result_base1, df_result_base2,\\\n",
    "                                               ['場コード', '距離', '芝ダ障害コード', '馬番'], 'left')"
   ]
  },
  {
   "cell_type": "markdown",
   "metadata": {},
   "source": [
    "## 競走馬の過去出走データの集計テスト"
   ]
  },
  {
   "cell_type": "code",
   "execution_count": null,
   "metadata": {},
   "outputs": [],
   "source": [
    "df_horse_test = df_horse[(df_horse['racekey'] == '2019042808030311')]\n",
    "df_horse_test = df_horse_test[['racekey', '馬名', '前走１競走成績キー', '前走２競走成績キー']]"
   ]
  },
  {
   "cell_type": "code",
   "execution_count": null,
   "metadata": {
    "scrolled": false
   },
   "outputs": [],
   "source": [
    "#df_race_data = df[['race_key', '場コード', '馬番', '血統登録番号', '年月日', '馬名', '距離', '芝ダ障害コード', '右左', '内外',\\\n",
    "#                  '条件', '重量', 'レース名', '頭数', '斤量']]\n",
    "df_horse_test.head()"
   ]
  },
  {
   "cell_type": "code",
   "execution_count": null,
   "metadata": {},
   "outputs": [],
   "source": [
    "df_result['join_key'] = df_result['血統登録番号'] + df_result['年月日']\n",
    "df_result_test = df_result[['join_key', 'レース名', '着順']]\n",
    "df_horse_race_test = pd.merge(df_horse_test, df_result_test,\\\n",
    "                              left_on = '前走１競走成績キー', right_on = 'join_key', how = 'left')\n",
    "df_horse_race_test.head()"
   ]
  },
  {
   "cell_type": "code",
   "execution_count": null,
   "metadata": {},
   "outputs": [],
   "source": []
  },
  {
   "cell_type": "code",
   "execution_count": null,
   "metadata": {},
   "outputs": [],
   "source": []
  }
 ],
 "metadata": {
  "celltoolbar": "Tags",
  "kernelspec": {
   "display_name": "Python 3",
   "language": "python",
   "name": "python3"
  },
  "language_info": {
   "codemirror_mode": {
    "name": "ipython",
    "version": 3
   },
   "file_extension": ".py",
   "mimetype": "text/x-python",
   "name": "python",
   "nbconvert_exporter": "python",
   "pygments_lexer": "ipython3",
   "version": "3.6.4"
  },
  "widgets": {
   "application/vnd.jupyter.widget-state+json": {
    "state": {},
    "version_major": 2,
    "version_minor": 0
   }
  }
 },
 "nbformat": 4,
 "nbformat_minor": 2
}
